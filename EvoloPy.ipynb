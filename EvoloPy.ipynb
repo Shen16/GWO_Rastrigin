{
 "cells": [
  {
   "cell_type": "markdown",
   "metadata": {
    "id": "view-in-github"
   },
   "source": [
    "<a href=\"https://colab.research.google.com/github/7ossam81/EvoloPy/blob/master/EvoloPy.ipynb\" target=\"_parent\"><img src=\"https://colab.research.google.com/assets/colab-badge.svg\" alt=\"Open In Colab\"/></a>"
   ]
  },
  {
   "cell_type": "markdown",
   "metadata": {
    "id": "IiNG95DSmRmt"
   },
   "source": [
    "<h1>EvoloPy</h1>\n",
    "An open source nature-inspired optimization toolbox for global optimization in Python"
   ]
  },
  {
   "cell_type": "markdown",
   "metadata": {
    "id": "hKzyadcdm6yw"
   },
   "source": [
    "The EvoloPy toolbox provides classical and recent nature-inspired metaheuristic for the global optimization. The list of optimizers that have been implemented includes Particle Swarm Optimization (PSO), Multi-Verse Optimizer (MVO), Grey Wolf Optimizer (GWO), and Moth Flame Optimization (MFO)."
   ]
  },
  {
   "cell_type": "markdown",
   "metadata": {
    "id": "2zQnPqDUujil"
   },
   "source": [
    "The full list of implemented optimizers is available here https://github.com/7ossam81/EvoloPy/wiki/List-of-optimizers"
   ]
  },
  {
   "cell_type": "markdown",
   "metadata": {
    "id": "ehxW3t0puwpm"
   },
   "source": [
    "<h2>Features</h2>"
   ]
  },
  {
   "cell_type": "markdown",
   "metadata": {
    "id": "TufeO-Rturq8"
   },
   "source": [
    "*   Fourteen nature-inspired metaheuristic optimizers are implemented.\n",
    "*   The implimentation uses the fast array manipulation using [NumPy] (http://www.numpy.org/).\n",
    "*   Matrix support using [SciPy's] (https://www.scipy.org/) package.\n",
    "*   More optimizers are comming soon"
   ]
  },
  {
   "cell_type": "markdown",
   "metadata": {
    "id": "oG2TRdx-vf8m"
   },
   "source": [
    "<h2>Installation</h2>"
   ]
  },
  {
   "cell_type": "markdown",
   "metadata": {
    "id": "_XpMUOZNvi9H"
   },
   "source": [
    "Python 3.xx is required."
   ]
  },
  {
   "cell_type": "markdown",
   "metadata": {
    "id": "f_PVAZC6v7px"
   },
   "source": [
    "<h2>GitHub</h2>"
   ]
  },
  {
   "cell_type": "markdown",
   "metadata": {
    "id": "aW_66ovkv2ev"
   },
   "source": [
    "Clone the Git repository from GitHub:\n",
    "git clone https://github.com/7ossam81/EvoloPy.git"
   ]
  },
  {
   "cell_type": "code",
   "execution_count": 1,
   "metadata": {
    "colab": {
     "base_uri": "https://localhost:8080/"
    },
    "id": "QgrmE2wEyC_X",
    "outputId": "fd079a4e-7694-405a-f438-742180b650c4"
   },
   "outputs": [
    {
     "name": "stdout",
     "output_type": "stream",
     "text": [
      "Cloning into 'EvoloPy'...\n",
      "remote: Enumerating objects: 605, done.\u001b[K\n",
      "remote: Counting objects: 100% (151/151), done.\u001b[K\n",
      "remote: Compressing objects: 100% (60/60), done.\u001b[K\n",
      "remote: Total 605 (delta 117), reused 100 (delta 90), pack-reused 454\u001b[K\n",
      "Receiving objects: 100% (605/605), 208.27 KiB | 12.25 MiB/s, done.\n",
      "Resolving deltas: 100% (340/340), done.\n"
     ]
    }
   ],
   "source": [
    "#!git clone https://github.com/7ossam81/EvoloPy.git"
   ]
  },
  {
   "cell_type": "code",
   "execution_count": null,
   "metadata": {
    "id": "_yVUbtjcyiZR"
   },
   "outputs": [],
   "source": [
    "# Change working directory\n",
    "#import os\n",
    "#os.chdir(\"EvoloPy/\")"
   ]
  },
  {
   "cell_type": "markdown",
   "metadata": {
    "id": "S4j-t-nXxaM7"
   },
   "source": [
    "<h2>Install Packages</h2>"
   ]
  },
  {
   "cell_type": "code",
   "execution_count": null,
   "metadata": {
    "colab": {
     "base_uri": "https://localhost:8080/"
    },
    "id": "-mG8vIuIW1n8",
    "outputId": "f01d390b-cf10-4f9a-fce9-8f1e4e4f0a92"
   },
   "outputs": [
    {
     "name": "stdout",
     "output_type": "stream",
     "text": [
      "Requirement already satisfied: NumPy in /usr/local/lib/python3.10/dist-packages (from -r requirements.txt (line 1)) (1.25.2)\n",
      "Requirement already satisfied: SciPy in /usr/local/lib/python3.10/dist-packages (from -r requirements.txt (line 2)) (1.11.4)\n",
      "Requirement already satisfied: scikit-learn in /usr/local/lib/python3.10/dist-packages (from -r requirements.txt (line 3)) (1.2.2)\n",
      "Requirement already satisfied: pandas in /usr/local/lib/python3.10/dist-packages (from -r requirements.txt (line 4)) (2.0.3)\n",
      "Requirement already satisfied: matplotlib in /usr/local/lib/python3.10/dist-packages (from -r requirements.txt (line 5)) (3.7.1)\n",
      "Requirement already satisfied: joblib>=1.1.1 in /usr/local/lib/python3.10/dist-packages (from scikit-learn->-r requirements.txt (line 3)) (1.4.2)\n",
      "Requirement already satisfied: threadpoolctl>=2.0.0 in /usr/local/lib/python3.10/dist-packages (from scikit-learn->-r requirements.txt (line 3)) (3.5.0)\n",
      "Requirement already satisfied: python-dateutil>=2.8.2 in /usr/local/lib/python3.10/dist-packages (from pandas->-r requirements.txt (line 4)) (2.8.2)\n",
      "Requirement already satisfied: pytz>=2020.1 in /usr/local/lib/python3.10/dist-packages (from pandas->-r requirements.txt (line 4)) (2023.4)\n",
      "Requirement already satisfied: tzdata>=2022.1 in /usr/local/lib/python3.10/dist-packages (from pandas->-r requirements.txt (line 4)) (2024.1)\n",
      "Requirement already satisfied: contourpy>=1.0.1 in /usr/local/lib/python3.10/dist-packages (from matplotlib->-r requirements.txt (line 5)) (1.2.1)\n",
      "Requirement already satisfied: cycler>=0.10 in /usr/local/lib/python3.10/dist-packages (from matplotlib->-r requirements.txt (line 5)) (0.12.1)\n",
      "Requirement already satisfied: fonttools>=4.22.0 in /usr/local/lib/python3.10/dist-packages (from matplotlib->-r requirements.txt (line 5)) (4.51.0)\n",
      "Requirement already satisfied: kiwisolver>=1.0.1 in /usr/local/lib/python3.10/dist-packages (from matplotlib->-r requirements.txt (line 5)) (1.4.5)\n",
      "Requirement already satisfied: packaging>=20.0 in /usr/local/lib/python3.10/dist-packages (from matplotlib->-r requirements.txt (line 5)) (24.0)\n",
      "Requirement already satisfied: pillow>=6.2.0 in /usr/local/lib/python3.10/dist-packages (from matplotlib->-r requirements.txt (line 5)) (9.4.0)\n",
      "Requirement already satisfied: pyparsing>=2.3.1 in /usr/local/lib/python3.10/dist-packages (from matplotlib->-r requirements.txt (line 5)) (3.1.2)\n",
      "Requirement already satisfied: six>=1.5 in /usr/local/lib/python3.10/dist-packages (from python-dateutil>=2.8.2->pandas->-r requirements.txt (line 4)) (1.16.0)\n"
     ]
    }
   ],
   "source": [
    "#Install NumPy, SciPy, sklearn, pandas, and matplotlib\n",
    "#!pip install -r requirements.txt\n",
    "\n",
    "# instead created venv and installed the requirements.txt"
   ]
  },
  {
   "cell_type": "markdown",
   "metadata": {
    "id": "fEon-wGyZuq4"
   },
   "source": [
    "<h2>User Preferences</h2>"
   ]
  },
  {
   "cell_type": "code",
   "execution_count": null,
   "metadata": {
    "id": "cFF9ioDfyppV"
   },
   "outputs": [],
   "source": [
    "# Select optimizers\n",
    "# \"SSA\",\"PSO\",\"GA\",\"BAT\",\"FFA\",\"GWO\",\"WOA\",\"MVO\",\"MFO\",\"CS\",\"HHO\",\"SCA\",\"JAYA\",\"DE\"\n",
    "optimizer= [\"GWO\"] # [\"GA\", \"PSO\", \"GWO\", \"MVO\", \"WOA\"]\n",
    "# DE, GWO, PSO, SCA, FI"
   ]
  },
  {
   "cell_type": "code",
   "execution_count": null,
   "metadata": {
    "id": "SuWo96bB6ohe"
   },
   "outputs": [],
   "source": [
    "# Select benchmark function\"\n",
    "# \"F1\",\"F2\",\"F3\",\"F4\",\"F5\",\"F6\",\"F7\",\"F8\",\"F9\",\"F10\",\"F11\",\"F12\",\"F13\",\"F14\",\"F15\",\"F16\",\"F17\",\"F18\",\"F19\"\n",
    "objectivefunc=[\"F9\"]# [\"F3\",\"F4\"]\n",
    "# create shifted rastrigin \n",
    "# run 5 on rastrigin and shifted rastrigin. Collect same data points\n",
    "# PSO is center biased\n",
    "# DE is also center biased as easy to go to center if popu\n",
    "# GWO --> seems to be huge bias from prev exp?"
   ]
  },
  {
   "cell_type": "code",
   "execution_count": 3,
   "metadata": {
    "id": "CQyWvdS3Ipgt"
   },
   "outputs": [],
   "source": [
    "# Select number of repetitions for each experiment.\n",
    "# To obtain meaningful statistical results, usually 30 independent runs are executed for each algorithm.\n",
    "NumOfRuns=3"
   ]
  },
  {
   "cell_type": "code",
   "execution_count": 4,
   "metadata": {
    "id": "2djrIRh26sKB"
   },
   "outputs": [],
   "source": [
    "# Select general parameters for all optimizers (population size, number of iterations) ....\n",
    "params = {'PopulationSize' : 30, 'Iterations' : 50}"
   ]
  },
  {
   "cell_type": "code",
   "execution_count": null,
   "metadata": {
    "id": "aJb075Np62GM"
   },
   "outputs": [],
   "source": [
    "#Choose whether to Export the results in different formats\n",
    "export_flags = {'Export_avg':True, \n",
    "                'Export_details':True,\n",
    "                'Export_convergence':True, \n",
    "                'Export_boxplot':True}"
   ]
  },
  {
   "cell_type": "markdown",
   "metadata": {
    "id": "KAgXf1QkZD7X"
   },
   "source": [
    "<h2>Run Framework</h2>"
   ]
  },
  {
   "cell_type": "code",
   "execution_count": 13,
   "metadata": {
    "colab": {
     "base_uri": "https://localhost:8080/"
    },
    "id": "APzDcxiwI8A2",
    "outputId": "5313e845-ac77-4891-a797-28df97079985"
   },
   "outputs": [
    {
     "name": "stdout",
     "output_type": "stream",
     "text": [
      "GWO is optimizing  \"F9\"\n",
      "['At iteration 0 the best fitness is 446.87241512198256']\n",
      "['At iteration 1 the best fitness is 398.55625711274405']\n",
      "['At iteration 2 the best fitness is 398.55625711274405']\n",
      "['At iteration 3 the best fitness is 369.49747122009813']\n",
      "['At iteration 4 the best fitness is 283.7185274655582']\n",
      "['At iteration 5 the best fitness is 283.7185274655582']\n",
      "['At iteration 6 the best fitness is 283.7185274655582']\n",
      "['At iteration 7 the best fitness is 279.98309132834083']\n",
      "['At iteration 8 the best fitness is 279.98309132834083']\n",
      "['At iteration 9 the best fitness is 260.3471234257949']\n",
      "['At iteration 10 the best fitness is 255.38879620359526']\n",
      "['At iteration 11 the best fitness is 255.38879620359526']\n",
      "['At iteration 12 the best fitness is 225.40122431630058']\n",
      "['At iteration 13 the best fitness is 225.40122431630058']\n",
      "['At iteration 14 the best fitness is 225.40122431630058']\n",
      "['At iteration 15 the best fitness is 215.6022781399973']\n",
      "['At iteration 16 the best fitness is 215.6022781399973']\n",
      "['At iteration 17 the best fitness is 211.1686147527382']\n",
      "['At iteration 18 the best fitness is 211.1686147527382']\n",
      "['At iteration 19 the best fitness is 202.29629395655718']\n",
      "['At iteration 20 the best fitness is 180.7900973770503']\n",
      "['At iteration 21 the best fitness is 174.6351261680238']\n",
      "['At iteration 22 the best fitness is 143.11424712816907']\n",
      "['At iteration 23 the best fitness is 143.11424712816907']\n",
      "['At iteration 24 the best fitness is 143.11424712816907']\n",
      "['At iteration 25 the best fitness is 143.11424712816907']\n",
      "['At iteration 26 the best fitness is 143.11424712816907']\n",
      "['At iteration 27 the best fitness is 143.11424712816907']\n",
      "['At iteration 28 the best fitness is 143.11424712816907']\n",
      "['At iteration 29 the best fitness is 143.11424712816907']\n",
      "['At iteration 30 the best fitness is 143.11424712816907']\n",
      "['At iteration 31 the best fitness is 143.11424712816907']\n",
      "['At iteration 32 the best fitness is 143.11424712816907']\n",
      "['At iteration 33 the best fitness is 132.40105077822074']\n",
      "['At iteration 34 the best fitness is 132.40105077822074']\n",
      "['At iteration 35 the best fitness is 132.40105077822074']\n",
      "['At iteration 36 the best fitness is 132.40105077822074']\n",
      "['At iteration 37 the best fitness is 124.17868343905255']\n",
      "['At iteration 38 the best fitness is 111.95060285555945']\n",
      "['At iteration 39 the best fitness is 108.79626958340316']\n",
      "['At iteration 40 the best fitness is 108.79626958340316']\n",
      "['At iteration 41 the best fitness is 100.37370634742774']\n",
      "['At iteration 42 the best fitness is 100.37370634742774']\n",
      "['At iteration 43 the best fitness is 97.86565207412411']\n",
      "['At iteration 44 the best fitness is 93.52637358532684']\n",
      "['At iteration 45 the best fitness is 93.52637358532684']\n",
      "['At iteration 46 the best fitness is 92.65004613448164']\n",
      "['At iteration 47 the best fitness is 87.7083338055979']\n",
      "['At iteration 48 the best fitness is 87.67962821903302']\n",
      "['At iteration 49 the best fitness is 86.58542514136224']\n",
      "GWO is optimizing  \"F9\"\n",
      "['At iteration 0 the best fitness is 503.8633874182848']\n",
      "['At iteration 1 the best fitness is 414.319691954998']\n",
      "['At iteration 2 the best fitness is 414.1357965574041']\n",
      "['At iteration 3 the best fitness is 344.26985610378614']\n",
      "['At iteration 4 the best fitness is 344.26985610378614']\n",
      "['At iteration 5 the best fitness is 344.26985610378614']\n",
      "['At iteration 6 the best fitness is 334.99453727452305']\n",
      "['At iteration 7 the best fitness is 305.2477260386758']\n",
      "['At iteration 8 the best fitness is 305.2477260386758']\n",
      "['At iteration 9 the best fitness is 305.2477260386758']\n",
      "['At iteration 10 the best fitness is 270.86119373732']\n",
      "['At iteration 11 the best fitness is 270.86119373732']\n",
      "['At iteration 12 the best fitness is 234.26123654447383']\n",
      "['At iteration 13 the best fitness is 213.44905270558272']\n",
      "['At iteration 14 the best fitness is 213.44905270558272']\n",
      "['At iteration 15 the best fitness is 213.44905270558272']\n",
      "['At iteration 16 the best fitness is 213.44905270558272']\n",
      "['At iteration 17 the best fitness is 213.44905270558272']\n",
      "['At iteration 18 the best fitness is 213.44905270558272']\n",
      "['At iteration 19 the best fitness is 213.44905270558272']\n",
      "['At iteration 20 the best fitness is 213.44905270558272']\n",
      "['At iteration 21 the best fitness is 213.44905270558272']\n",
      "['At iteration 22 the best fitness is 213.44905270558272']\n",
      "['At iteration 23 the best fitness is 213.44905270558272']\n",
      "['At iteration 24 the best fitness is 213.44905270558272']\n",
      "['At iteration 25 the best fitness is 213.44905270558272']\n",
      "['At iteration 26 the best fitness is 213.44905270558272']\n",
      "['At iteration 27 the best fitness is 213.44905270558272']\n",
      "['At iteration 28 the best fitness is 213.44905270558272']\n",
      "['At iteration 29 the best fitness is 213.44905270558272']\n",
      "['At iteration 30 the best fitness is 213.44905270558272']\n",
      "['At iteration 31 the best fitness is 212.6823830176178']\n",
      "['At iteration 32 the best fitness is 212.6823830176178']\n",
      "['At iteration 33 the best fitness is 209.66617726959612']\n",
      "['At iteration 34 the best fitness is 209.43187740722948']\n",
      "['At iteration 35 the best fitness is 209.43187740722948']\n",
      "['At iteration 36 the best fitness is 209.43187740722948']\n",
      "['At iteration 37 the best fitness is 209.43187740722948']\n",
      "['At iteration 38 the best fitness is 179.99871559820508']\n",
      "['At iteration 39 the best fitness is 179.99871559820508']\n",
      "['At iteration 40 the best fitness is 176.90660899304757']\n",
      "['At iteration 41 the best fitness is 175.5841230865007']\n",
      "['At iteration 42 the best fitness is 175.5841230865007']\n",
      "['At iteration 43 the best fitness is 171.95962955051985']\n",
      "['At iteration 44 the best fitness is 158.06041976733837']\n",
      "['At iteration 45 the best fitness is 153.19330928420325']\n",
      "['At iteration 46 the best fitness is 149.94519620972906']\n",
      "['At iteration 47 the best fitness is 141.8631227500116']\n",
      "['At iteration 48 the best fitness is 137.70851465957136']\n",
      "['At iteration 49 the best fitness is 133.28590106344404']\n",
      "GWO is optimizing  \"F9\"\n",
      "['At iteration 0 the best fitness is 457.14974445818814']\n",
      "['At iteration 1 the best fitness is 418.2009035868223']\n",
      "['At iteration 2 the best fitness is 344.09188911556004']\n",
      "['At iteration 3 the best fitness is 344.09188911556004']\n",
      "['At iteration 4 the best fitness is 344.09188911556004']\n",
      "['At iteration 5 the best fitness is 300.7577148341962']\n",
      "['At iteration 6 the best fitness is 300.7577148341962']\n",
      "['At iteration 7 the best fitness is 300.7577148341962']\n",
      "['At iteration 8 the best fitness is 278.758131433883']\n",
      "['At iteration 9 the best fitness is 275.6823728492151']\n",
      "['At iteration 10 the best fitness is 275.6823728492151']\n",
      "['At iteration 11 the best fitness is 270.80421505061247']\n",
      "['At iteration 12 the best fitness is 260.7486354786999']\n",
      "['At iteration 13 the best fitness is 254.00951123358692']\n",
      "['At iteration 14 the best fitness is 254.00951123358692']\n",
      "['At iteration 15 the best fitness is 240.29393567597847']\n",
      "['At iteration 16 the best fitness is 240.29393567597847']\n",
      "['At iteration 17 the best fitness is 212.96270645566898']\n",
      "['At iteration 18 the best fitness is 212.96270645566898']\n",
      "['At iteration 19 the best fitness is 181.81884819243086']\n",
      "['At iteration 20 the best fitness is 181.81884819243086']\n",
      "['At iteration 21 the best fitness is 181.81884819243086']\n",
      "['At iteration 22 the best fitness is 181.81884819243086']\n",
      "['At iteration 23 the best fitness is 181.81884819243086']\n",
      "['At iteration 24 the best fitness is 181.81884819243086']\n",
      "['At iteration 25 the best fitness is 181.81884819243086']\n",
      "['At iteration 26 the best fitness is 181.81884819243086']\n",
      "['At iteration 27 the best fitness is 174.58615101704663']\n",
      "['At iteration 28 the best fitness is 174.58615101704663']\n",
      "['At iteration 29 the best fitness is 174.58615101704663']\n",
      "['At iteration 30 the best fitness is 174.58615101704663']\n",
      "['At iteration 31 the best fitness is 174.58615101704663']\n",
      "['At iteration 32 the best fitness is 172.40397318570155']\n",
      "['At iteration 33 the best fitness is 172.40397318570155']\n",
      "['At iteration 34 the best fitness is 159.4826609431984']\n",
      "['At iteration 35 the best fitness is 151.74519236998916']\n",
      "['At iteration 36 the best fitness is 124.12507432442564']\n",
      "['At iteration 37 the best fitness is 124.12507432442564']\n",
      "['At iteration 38 the best fitness is 124.12507432442564']\n",
      "['At iteration 39 the best fitness is 124.12507432442564']\n",
      "['At iteration 40 the best fitness is 124.12507432442564']\n",
      "['At iteration 41 the best fitness is 120.36324898728196']\n",
      "['At iteration 42 the best fitness is 118.7581764001227']\n",
      "['At iteration 43 the best fitness is 113.4108661050609']\n",
      "['At iteration 44 the best fitness is 107.69494248851899']\n",
      "['At iteration 45 the best fitness is 106.3724446407827']\n",
      "['At iteration 46 the best fitness is 97.69030232712572']\n",
      "['At iteration 47 the best fitness is 97.69030232712572']\n",
      "['At iteration 48 the best fitness is 96.67477267353877']\n",
      "['At iteration 49 the best fitness is 92.38517151411236']\n",
      "Execution completed\n"
     ]
    },
    {
     "data": {
      "text/plain": [
       "<Figure size 640x480 with 0 Axes>"
      ]
     },
     "metadata": {},
     "output_type": "display_data"
    }
   ],
   "source": [
    "# Run EvoCluster\n",
    "from optimizer import run\n",
    "run(optimizer, objectivefunc, NumOfRuns, params, export_flags)"
   ]
  },
  {
   "cell_type": "markdown",
   "metadata": {
    "id": "1mB9AVhQuwbH"
   },
   "source": [
    "<h2>Results Files and Plots</h2>"
   ]
  },
  {
   "cell_type": "code",
   "execution_count": null,
   "metadata": {
    "id": "642Oh7QUpRhL"
   },
   "outputs": [],
   "source": [
    "#import some useful packages to view the results' files in colab\n",
    "import pandas as pd\n",
    "from IPython.display import Image\n",
    "import os\n",
    "import datetime\n",
    "import ipywidgets as widgets # in terminal: pip install ipywidgets"
   ]
  },
  {
   "cell_type": "code",
   "execution_count": 16,
   "metadata": {
    "colab": {
     "base_uri": "https://localhost:8080/",
     "height": 49,
     "referenced_widgets": [
      "3b28b90d69084199b50f0df0c1e92741",
      "9554067eb8014f6f9cd0c0e4d30165f9",
      "02fdbef9609840cbbcb7796da6fc93c5"
     ]
    },
    "id": "UOLHaWwBRf7D",
    "outputId": "f8f50a36-de57-4b3c-a7d7-d8cf21ef2c64"
   },
   "outputs": [
    {
     "data": {
      "application/vnd.jupyter.widget-view+json": {
       "model_id": "9bf364845d5a490eb2e18f84b803fe61",
       "version_major": 2,
       "version_minor": 0
      },
      "text/plain": [
       "Dropdown(description='Select folder:', options=('2024-11-23-00-26-05',), value='2024-11-23-00-26-05')"
      ]
     },
     "execution_count": 16,
     "metadata": {},
     "output_type": "execute_result"
    }
   ],
   "source": [
    "#Select the experiments folder\n",
    "foldernames = [filename for filename in os.listdir() if filename.startswith(str(datetime.datetime.now().year))]\n",
    "drop_folder = widgets.Dropdown(options=foldernames, description='Select folder:')\n",
    "drop_folder"
   ]
  },
  {
   "cell_type": "code",
   "execution_count": null,
   "metadata": {
    "id": "xm8UuPRA6uIb"
   },
   "outputs": [],
   "source": [
    "#Get the selected folder\n",
    "foldername = drop_folder.value"
   ]
  },
  {
   "cell_type": "markdown",
   "metadata": {
    "id": "qjNFP9NqvNV3"
   },
   "source": [
    "<h4>Average Results File</h4>"
   ]
  },
  {
   "cell_type": "code",
   "execution_count": 19,
   "metadata": {
    "colab": {
     "base_uri": "https://localhost:8080/",
     "height": 224
    },
    "id": "U_PNBYEYp2cn",
    "outputId": "f2271c1f-776b-4703-a4bf-a47df6413d7e"
   },
   "outputs": [
    {
     "data": {
      "text/html": [
       "<div>\n",
       "<style scoped>\n",
       "    .dataframe tbody tr th:only-of-type {\n",
       "        vertical-align: middle;\n",
       "    }\n",
       "\n",
       "    .dataframe tbody tr th {\n",
       "        vertical-align: top;\n",
       "    }\n",
       "\n",
       "    .dataframe thead th {\n",
       "        text-align: right;\n",
       "    }\n",
       "</style>\n",
       "<table border=\"1\" class=\"dataframe\">\n",
       "  <thead>\n",
       "    <tr style=\"text-align: right;\">\n",
       "      <th></th>\n",
       "      <th>Optimizer</th>\n",
       "      <th>objfname</th>\n",
       "      <th>ExecutionTime</th>\n",
       "      <th>Iter1</th>\n",
       "      <th>Iter2</th>\n",
       "      <th>Iter3</th>\n",
       "      <th>Iter4</th>\n",
       "      <th>Iter5</th>\n",
       "      <th>Iter6</th>\n",
       "      <th>Iter7</th>\n",
       "      <th>...</th>\n",
       "      <th>Iter41</th>\n",
       "      <th>Iter42</th>\n",
       "      <th>Iter43</th>\n",
       "      <th>Iter44</th>\n",
       "      <th>Iter45</th>\n",
       "      <th>Iter46</th>\n",
       "      <th>Iter47</th>\n",
       "      <th>Iter48</th>\n",
       "      <th>Iter49</th>\n",
       "      <th>Iter50</th>\n",
       "    </tr>\n",
       "  </thead>\n",
       "  <tbody>\n",
       "    <tr>\n",
       "      <th>0</th>\n",
       "      <td>GWO</td>\n",
       "      <td>F9</td>\n",
       "      <td>0.81</td>\n",
       "      <td>469.3</td>\n",
       "      <td>410.36</td>\n",
       "      <td>385.59</td>\n",
       "      <td>352.62</td>\n",
       "      <td>324.03</td>\n",
       "      <td>309.58</td>\n",
       "      <td>306.49</td>\n",
       "      <td>...</td>\n",
       "      <td>136.61</td>\n",
       "      <td>132.11</td>\n",
       "      <td>131.57</td>\n",
       "      <td>127.75</td>\n",
       "      <td>119.76</td>\n",
       "      <td>117.7</td>\n",
       "      <td>113.43</td>\n",
       "      <td>109.09</td>\n",
       "      <td>107.35</td>\n",
       "      <td>104.09</td>\n",
       "    </tr>\n",
       "  </tbody>\n",
       "</table>\n",
       "<p>1 rows × 53 columns</p>\n",
       "</div>"
      ],
      "text/plain": [
       "  Optimizer objfname  ExecutionTime  Iter1   Iter2   Iter3   Iter4   Iter5  \\\n",
       "0       GWO       F9           0.81  469.3  410.36  385.59  352.62  324.03   \n",
       "\n",
       "    Iter6   Iter7  ...  Iter41  Iter42  Iter43  Iter44  Iter45  Iter46  \\\n",
       "0  309.58  306.49  ...  136.61  132.11  131.57  127.75  119.76   117.7   \n",
       "\n",
       "   Iter47  Iter48  Iter49  Iter50  \n",
       "0  113.43  109.09  107.35  104.09  \n",
       "\n",
       "[1 rows x 53 columns]"
      ]
     },
     "execution_count": 19,
     "metadata": {},
     "output_type": "execute_result"
    }
   ],
   "source": [
    "#Show the average results file\n",
    "filename = foldername +'/experiment.csv'\n",
    "df = pd.read_csv(filename)\n",
    "df.head(4)"
   ]
  },
  {
   "cell_type": "markdown",
   "metadata": {
    "id": "sXSfvROovXRc"
   },
   "source": [
    "<h4>Detailed Results File</h4>"
   ]
  },
  {
   "cell_type": "code",
   "execution_count": 20,
   "metadata": {
    "colab": {
     "base_uri": "https://localhost:8080/",
     "height": 1000
    },
    "id": "RXU4upcgqcX_",
    "outputId": "edb0cbe0-e545-4a45-fa91-2fa4f0ed3c4d"
   },
   "outputs": [
    {
     "data": {
      "text/html": [
       "<div>\n",
       "<style scoped>\n",
       "    .dataframe tbody tr th:only-of-type {\n",
       "        vertical-align: middle;\n",
       "    }\n",
       "\n",
       "    .dataframe tbody tr th {\n",
       "        vertical-align: top;\n",
       "    }\n",
       "\n",
       "    .dataframe thead th {\n",
       "        text-align: right;\n",
       "    }\n",
       "</style>\n",
       "<table border=\"1\" class=\"dataframe\">\n",
       "  <thead>\n",
       "    <tr style=\"text-align: right;\">\n",
       "      <th></th>\n",
       "      <th>Optimizer</th>\n",
       "      <th>objfname</th>\n",
       "      <th>ExecutionTime</th>\n",
       "      <th>Individual</th>\n",
       "      <th>Iter1</th>\n",
       "      <th>Iter2</th>\n",
       "      <th>Iter3</th>\n",
       "      <th>Iter4</th>\n",
       "      <th>Iter5</th>\n",
       "      <th>Iter6</th>\n",
       "      <th>...</th>\n",
       "      <th>Iter41</th>\n",
       "      <th>Iter42</th>\n",
       "      <th>Iter43</th>\n",
       "      <th>Iter44</th>\n",
       "      <th>Iter45</th>\n",
       "      <th>Iter46</th>\n",
       "      <th>Iter47</th>\n",
       "      <th>Iter48</th>\n",
       "      <th>Iter49</th>\n",
       "      <th>Iter50</th>\n",
       "    </tr>\n",
       "  </thead>\n",
       "  <tbody>\n",
       "    <tr>\n",
       "      <th>0</th>\n",
       "      <td>GWO</td>\n",
       "      <td>F9</td>\n",
       "      <td>0.798799</td>\n",
       "      <td>[ 2.00747977e+00  8.90609901e-02 -9.73172336e-...</td>\n",
       "      <td>446.872415</td>\n",
       "      <td>398.556257</td>\n",
       "      <td>398.556257</td>\n",
       "      <td>369.497471</td>\n",
       "      <td>283.718527</td>\n",
       "      <td>283.718527</td>\n",
       "      <td>...</td>\n",
       "      <td>108.796270</td>\n",
       "      <td>100.373706</td>\n",
       "      <td>100.373706</td>\n",
       "      <td>97.865652</td>\n",
       "      <td>93.526374</td>\n",
       "      <td>93.526374</td>\n",
       "      <td>92.650046</td>\n",
       "      <td>87.708334</td>\n",
       "      <td>87.679628</td>\n",
       "      <td>86.585425</td>\n",
       "    </tr>\n",
       "    <tr>\n",
       "      <th>1</th>\n",
       "      <td>GWO</td>\n",
       "      <td>F9</td>\n",
       "      <td>0.993535</td>\n",
       "      <td>[ 1.98223448  0.37068654  3.02246098 -1.014390...</td>\n",
       "      <td>503.863387</td>\n",
       "      <td>414.319692</td>\n",
       "      <td>414.135797</td>\n",
       "      <td>344.269856</td>\n",
       "      <td>344.269856</td>\n",
       "      <td>344.269856</td>\n",
       "      <td>...</td>\n",
       "      <td>176.906609</td>\n",
       "      <td>175.584123</td>\n",
       "      <td>175.584123</td>\n",
       "      <td>171.959630</td>\n",
       "      <td>158.060420</td>\n",
       "      <td>153.193309</td>\n",
       "      <td>149.945196</td>\n",
       "      <td>141.863123</td>\n",
       "      <td>137.708515</td>\n",
       "      <td>133.285901</td>\n",
       "    </tr>\n",
       "    <tr>\n",
       "      <th>2</th>\n",
       "      <td>GWO</td>\n",
       "      <td>F9</td>\n",
       "      <td>0.641002</td>\n",
       "      <td>[-6.71675184e-02  5.59100758e-02  1.93189891e+...</td>\n",
       "      <td>457.149744</td>\n",
       "      <td>418.200904</td>\n",
       "      <td>344.091889</td>\n",
       "      <td>344.091889</td>\n",
       "      <td>344.091889</td>\n",
       "      <td>300.757715</td>\n",
       "      <td>...</td>\n",
       "      <td>124.125074</td>\n",
       "      <td>120.363249</td>\n",
       "      <td>118.758176</td>\n",
       "      <td>113.410866</td>\n",
       "      <td>107.694942</td>\n",
       "      <td>106.372445</td>\n",
       "      <td>97.690302</td>\n",
       "      <td>97.690302</td>\n",
       "      <td>96.674773</td>\n",
       "      <td>92.385172</td>\n",
       "    </tr>\n",
       "  </tbody>\n",
       "</table>\n",
       "<p>3 rows × 54 columns</p>\n",
       "</div>"
      ],
      "text/plain": [
       "  Optimizer objfname  ExecutionTime  \\\n",
       "0       GWO       F9       0.798799   \n",
       "1       GWO       F9       0.993535   \n",
       "2       GWO       F9       0.641002   \n",
       "\n",
       "                                          Individual       Iter1       Iter2  \\\n",
       "0  [ 2.00747977e+00  8.90609901e-02 -9.73172336e-...  446.872415  398.556257   \n",
       "1  [ 1.98223448  0.37068654  3.02246098 -1.014390...  503.863387  414.319692   \n",
       "2  [-6.71675184e-02  5.59100758e-02  1.93189891e+...  457.149744  418.200904   \n",
       "\n",
       "        Iter3       Iter4       Iter5       Iter6  ...      Iter41  \\\n",
       "0  398.556257  369.497471  283.718527  283.718527  ...  108.796270   \n",
       "1  414.135797  344.269856  344.269856  344.269856  ...  176.906609   \n",
       "2  344.091889  344.091889  344.091889  300.757715  ...  124.125074   \n",
       "\n",
       "       Iter42      Iter43      Iter44      Iter45      Iter46      Iter47  \\\n",
       "0  100.373706  100.373706   97.865652   93.526374   93.526374   92.650046   \n",
       "1  175.584123  175.584123  171.959630  158.060420  153.193309  149.945196   \n",
       "2  120.363249  118.758176  113.410866  107.694942  106.372445   97.690302   \n",
       "\n",
       "       Iter48      Iter49      Iter50  \n",
       "0   87.708334   87.679628   86.585425  \n",
       "1  141.863123  137.708515  133.285901  \n",
       "2   97.690302   96.674773   92.385172  \n",
       "\n",
       "[3 rows x 54 columns]"
      ]
     },
     "execution_count": 20,
     "metadata": {},
     "output_type": "execute_result"
    }
   ],
   "source": [
    "#Show the detailed results file\n",
    "filename = foldername +'/experiment_details.csv'\n",
    "df = pd.read_csv(filename)\n",
    "df.head(12)"
   ]
  },
  {
   "cell_type": "markdown",
   "metadata": {
    "id": "7gw9qJb7vedV"
   },
   "source": [
    "<h4>Convergence Curve Plot</h4>"
   ]
  },
  {
   "cell_type": "code",
   "execution_count": 21,
   "metadata": {
    "colab": {
     "base_uri": "https://localhost:8080/",
     "height": 49,
     "referenced_widgets": [
      "5fcc2dcfac7d4c999b5c3d063101be73",
      "c9ecfafb6f9b4e0c8dfec25b8d3eb24e",
      "1c6a5d50ca23408eb9de7768f71e1a5f"
     ]
    },
    "id": "14hzxM7spueJ",
    "outputId": "bd03c621-cd60-40d6-dbea-8cc0b1270527"
   },
   "outputs": [
    {
     "data": {
      "application/vnd.jupyter.widget-view+json": {
       "model_id": "9621fdce0242447f9e598b9bdabd7856",
       "version_major": 2,
       "version_minor": 0
      },
      "text/plain": [
       "Dropdown(description='Select plot:', options=('convergence-F9.png',), value='convergence-F9.png')"
      ]
     },
     "execution_count": 21,
     "metadata": {},
     "output_type": "execute_result"
    }
   ],
   "source": [
    "#Select convergence curve to show\n",
    "filenames = [filename for filename in os.listdir(foldername) if filename.startswith('convergence')]\n",
    "\n",
    "drop_plot_convergence = widgets.Dropdown(options=filenames, description='Select plot:')\n",
    "drop_plot_convergence"
   ]
  },
  {
   "cell_type": "code",
   "execution_count": 22,
   "metadata": {
    "colab": {
     "base_uri": "https://localhost:8080/",
     "height": 450
    },
    "id": "ZMstknfRafMj",
    "outputId": "5ca200e1-f8f6-4cea-f138-cede8d7d2f09"
   },
   "outputs": [
    {
     "data": {
      "image/png": "[encoded data removed]",
      "text/plain": [
       "<IPython.core.display.Image object>"
      ]
     },
     "execution_count": 22,
     "metadata": {},
     "output_type": "execute_result"
    }
   ],
   "source": [
    "#Show selected convergence curve\n",
    "Image(foldername +'/' + drop_plot_convergence.value)"
   ]
  },
  {
   "cell_type": "markdown",
   "metadata": {
    "id": "HYEl6buevixm"
   },
   "source": [
    "<h4>Box Plot</h4>"
   ]
  },
  {
   "cell_type": "code",
   "execution_count": 23,
   "metadata": {
    "colab": {
     "base_uri": "https://localhost:8080/",
     "height": 49,
     "referenced_widgets": [
      "c9e86fa2383f4dc6967fcacc2c9bc455",
      "c6074f4505ac4735b9aa7590b413babd",
      "a9e9da0efbe4414f9f5d055b5d88c105"
     ]
    },
    "id": "rWF1AKS5bPvV",
    "outputId": "283ba93a-821e-4260-f575-f44de60067d9"
   },
   "outputs": [
    {
     "data": {
      "application/vnd.jupyter.widget-view+json": {
       "model_id": "285e441e86c94cb0b703947693345a9a",
       "version_major": 2,
       "version_minor": 0
      },
      "text/plain": [
       "Dropdown(description='Select plot:', options=('boxplot-F9.png',), value='boxplot-F9.png')"
      ]
     },
     "execution_count": 23,
     "metadata": {},
     "output_type": "execute_result"
    }
   ],
   "source": [
    "#Select boxplot to show\n",
    "filenames = [filename for filename in os.listdir(foldername) if filename.startswith('boxplot')]\n",
    "\n",
    "drop_boxplot = widgets.Dropdown(options=filenames, description='Select plot:')\n",
    "drop_boxplot"
   ]
  },
  {
   "cell_type": "code",
   "execution_count": 24,
   "metadata": {
    "colab": {
     "base_uri": "https://localhost:8080/",
     "height": 430
    },
    "id": "paBsvZRktfTh",
    "outputId": "c34d6d77-922f-4b68-80f1-40546ce43b19"
   },
   "outputs": [
    {
     "data": {
      "image/png": "[encoded data removed]",
      "text/plain": [
       "<IPython.core.display.Image object>"
      ]
     },
     "execution_count": 24,
     "metadata": {},
     "output_type": "execute_result"
    }
   ],
   "source": [
    "#Show selected boxplot\n",
    "Image(foldername +'/' + drop_boxplot.value)"
   ]
  },
  {
   "cell_type": "markdown",
   "metadata": {
    "id": "eahYmfKKJ62g"
   },
   "source": [
    "<h2>Citation Request</h2>"
   ]
  },
  {
   "cell_type": "markdown",
   "metadata": {
    "id": "PkabkcHFKFIK"
   },
   "source": [
    "Please include these citations if you plan to use this Framework:\n",
    "\n",
    "*   Faris, Hossam, Ibrahim Aljarah, Seyedali Mirjalili, Pedro A. Castillo, and Juan Julián Merelo Guervós. \"EvoloPy: An Open-source Nature-inspired Optimization Framework in Python.\" In IJCCI (ECTA), pp. 171-177. 2016.\n",
    "*   Qaddoura, Raneem, Hossam Faris, Ibrahim Aljarah, and Pedro A. Castillo. \"EvoCluster: An Open-Source Nature-Inspired Optimization Clustering Framework in Python.\" In International Conference on the Applications of Evolutionary Computation (Part of EvoStar), pp. 20-36. Springer, Cham, 2020.\n",
    "*   Ruba Abu Khurma, Ibrahim Aljarah, Ahmad Sharieh, and Seyedali Mirjalili. Evolopy-fs: An open-source nature-inspired optimization framework in python for feature selection. In Evolutionary Machine Learning Techniques, pages 131–173. Springer, 2020"
   ]
  }
 ],
 "metadata": {
  "colab": {
   "provenance": []
  },
  "kernelspec": {
   "display_name": ".venv",
   "language": "python",
   "name": "python3"
  },
  "language_info": {
   "codemirror_mode": {
    "name": "ipython",
    "version": 3
   },
   "file_extension": ".py",
   "mimetype": "text/x-python",
   "name": "python",
   "nbconvert_exporter": "python",
   "pygments_lexer": "ipython3",
   "version": "3.12.4"
  },
  "widgets": {
   "application/vnd.jupyter.widget-state+json": {
    "02fdbef9609840cbbcb7796da6fc93c5": {
     "model_module": "@jupyter-widgets/controls",
     "model_module_version": "1.5.0",
     "model_name": "DescriptionStyleModel",
     "state": {
      "_model_module": "@jupyter-widgets/controls",
      "_model_module_version": "1.5.0",
      "_model_name": "DescriptionStyleModel",
      "_view_count": null,
      "_view_module": "@jupyter-widgets/base",
      "_view_module_version": "1.2.0",
      "_view_name": "StyleView",
      "description_width": ""
     }
    },
    "1c6a5d50ca23408eb9de7768f71e1a5f": {
     "model_module": "@jupyter-widgets/controls",
     "model_module_version": "1.5.0",
     "model_name": "DescriptionStyleModel",
     "state": {
      "_model_module": "@jupyter-widgets/controls",
      "_model_module_version": "1.5.0",
      "_model_name": "DescriptionStyleModel",
      "_view_count": null,
      "_view_module": "@jupyter-widgets/base",
      "_view_module_version": "1.2.0",
      "_view_name": "StyleView",
      "description_width": ""
     }
    },
    "3b28b90d69084199b50f0df0c1e92741": {
     "model_module": "@jupyter-widgets/controls",
     "model_module_version": "1.5.0",
     "model_name": "DropdownModel",
     "state": {
      "_dom_classes": [],
      "_model_module": "@jupyter-widgets/controls",
      "_model_module_version": "1.5.0",
      "_model_name": "DropdownModel",
      "_options_labels": [
       "2024-05-26-18-37-02"
      ],
      "_view_count": null,
      "_view_module": "@jupyter-widgets/controls",
      "_view_module_version": "1.5.0",
      "_view_name": "DropdownView",
      "description": "Select folder:",
      "description_tooltip": null,
      "disabled": false,
      "index": 0,
      "layout": "IPY_MODEL_9554067eb8014f6f9cd0c0e4d30165f9",
      "style": "IPY_MODEL_02fdbef9609840cbbcb7796da6fc93c5"
     }
    },
    "5fcc2dcfac7d4c999b5c3d063101be73": {
     "model_module": "@jupyter-widgets/controls",
     "model_module_version": "1.5.0",
     "model_name": "DropdownModel",
     "state": {
      "_dom_classes": [],
      "_model_module": "@jupyter-widgets/controls",
      "_model_module_version": "1.5.0",
      "_model_name": "DropdownModel",
      "_options_labels": [
       "convergence-F3.png",
       "convergence-F4.png"
      ],
      "_view_count": null,
      "_view_module": "@jupyter-widgets/controls",
      "_view_module_version": "1.5.0",
      "_view_name": "DropdownView",
      "description": "Select plot:",
      "description_tooltip": null,
      "disabled": false,
      "index": 0,
      "layout": "IPY_MODEL_c9ecfafb6f9b4e0c8dfec25b8d3eb24e",
      "style": "IPY_MODEL_1c6a5d50ca23408eb9de7768f71e1a5f"
     }
    },
    "9554067eb8014f6f9cd0c0e4d30165f9": {
     "model_module": "@jupyter-widgets/base",
     "model_module_version": "1.2.0",
     "model_name": "LayoutModel",
     "state": {
      "_model_module": "@jupyter-widgets/base",
      "_model_module_version": "1.2.0",
      "_model_name": "LayoutModel",
      "_view_count": null,
      "_view_module": "@jupyter-widgets/base",
      "_view_module_version": "1.2.0",
      "_view_name": "LayoutView",
      "align_content": null,
      "align_items": null,
      "align_self": null,
      "border": null,
      "bottom": null,
      "display": null,
      "flex": null,
      "flex_flow": null,
      "grid_area": null,
      "grid_auto_columns": null,
      "grid_auto_flow": null,
      "grid_auto_rows": null,
      "grid_column": null,
      "grid_gap": null,
      "grid_row": null,
      "grid_template_areas": null,
      "grid_template_columns": null,
      "grid_template_rows": null,
      "height": null,
      "justify_content": null,
      "justify_items": null,
      "left": null,
      "margin": null,
      "max_height": null,
      "max_width": null,
      "min_height": null,
      "min_width": null,
      "object_fit": null,
      "object_position": null,
      "order": null,
      "overflow": null,
      "overflow_x": null,
      "overflow_y": null,
      "padding": null,
      "right": null,
      "top": null,
      "visibility": null,
      "width": null
     }
    },
    "a9e9da0efbe4414f9f5d055b5d88c105": {
     "model_module": "@jupyter-widgets/controls",
     "model_module_version": "1.5.0",
     "model_name": "DescriptionStyleModel",
     "state": {
      "_model_module": "@jupyter-widgets/controls",
      "_model_module_version": "1.5.0",
      "_model_name": "DescriptionStyleModel",
      "_view_count": null,
      "_view_module": "@jupyter-widgets/base",
      "_view_module_version": "1.2.0",
      "_view_name": "StyleView",
      "description_width": ""
     }
    },
    "c6074f4505ac4735b9aa7590b413babd": {
     "model_module": "@jupyter-widgets/base",
     "model_module_version": "1.2.0",
     "model_name": "LayoutModel",
     "state": {
      "_model_module": "@jupyter-widgets/base",
      "_model_module_version": "1.2.0",
      "_model_name": "LayoutModel",
      "_view_count": null,
      "_view_module": "@jupyter-widgets/base",
      "_view_module_version": "1.2.0",
      "_view_name": "LayoutView",
      "align_content": null,
      "align_items": null,
      "align_self": null,
      "border": null,
      "bottom": null,
      "display": null,
      "flex": null,
      "flex_flow": null,
      "grid_area": null,
      "grid_auto_columns": null,
      "grid_auto_flow": null,
      "grid_auto_rows": null,
      "grid_column": null,
      "grid_gap": null,
      "grid_row": null,
      "grid_template_areas": null,
      "grid_template_columns": null,
      "grid_template_rows": null,
      "height": null,
      "justify_content": null,
      "justify_items": null,
      "left": null,
      "margin": null,
      "max_height": null,
      "max_width": null,
      "min_height": null,
      "min_width": null,
      "object_fit": null,
      "object_position": null,
      "order": null,
      "overflow": null,
      "overflow_x": null,
      "overflow_y": null,
      "padding": null,
      "right": null,
      "top": null,
      "visibility": null,
      "width": null
     }
    },
    "c9e86fa2383f4dc6967fcacc2c9bc455": {
     "model_module": "@jupyter-widgets/controls",
     "model_module_version": "1.5.0",
     "model_name": "DropdownModel",
     "state": {
      "_dom_classes": [],
      "_model_module": "@jupyter-widgets/controls",
      "_model_module_version": "1.5.0",
      "_model_name": "DropdownModel",
      "_options_labels": [
       "boxplot-F4.png",
       "boxplot-F3.png"
      ],
      "_view_count": null,
      "_view_module": "@jupyter-widgets/controls",
      "_view_module_version": "1.5.0",
      "_view_name": "DropdownView",
      "description": "Select plot:",
      "description_tooltip": null,
      "disabled": false,
      "index": 0,
      "layout": "IPY_MODEL_c6074f4505ac4735b9aa7590b413babd",
      "style": "IPY_MODEL_a9e9da0efbe4414f9f5d055b5d88c105"
     }
    },
    "c9ecfafb6f9b4e0c8dfec25b8d3eb24e": {
     "model_module": "@jupyter-widgets/base",
     "model_module_version": "1.2.0",
     "model_name": "LayoutModel",
     "state": {
      "_model_module": "@jupyter-widgets/base",
      "_model_module_version": "1.2.0",
      "_model_name": "LayoutModel",
      "_view_count": null,
      "_view_module": "@jupyter-widgets/base",
      "_view_module_version": "1.2.0",
      "_view_name": "LayoutView",
      "align_content": null,
      "align_items": null,
      "align_self": null,
      "border": null,
      "bottom": null,
      "display": null,
      "flex": null,
      "flex_flow": null,
      "grid_area": null,
      "grid_auto_columns": null,
      "grid_auto_flow": null,
      "grid_auto_rows": null,
      "grid_column": null,
      "grid_gap": null,
      "grid_row": null,
      "grid_template_areas": null,
      "grid_template_columns": null,
      "grid_template_rows": null,
      "height": null,
      "justify_content": null,
      "justify_items": null,
      "left": null,
      "margin": null,
      "max_height": null,
      "max_width": null,
      "min_height": null,
      "min_width": null,
      "object_fit": null,
      "object_position": null,
      "order": null,
      "overflow": null,
      "overflow_x": null,
      "overflow_y": null,
      "padding": null,
      "right": null,
      "top": null,
      "visibility": null,
      "width": null
     }
    }
   }
  }
 },
 "nbformat": 4,
 "nbformat_minor": 0
}
